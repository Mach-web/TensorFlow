{
 "cells": [
  {
   "cell_type": "markdown",
   "id": "72936fb2",
   "metadata": {},
   "source": [
    "## Dogs vs Cats Image Classification(without image augmentation)"
   ]
  },
  {
   "cell_type": "markdown",
   "id": "6ea2cb2d",
   "metadata": {},
   "source": [
    "### Import Packages"
   ]
  },
  {
   "cell_type": "code",
   "execution_count": 1,
   "id": "fda26b15",
   "metadata": {},
   "outputs": [
    {
     "name": "stderr",
     "output_type": "stream",
     "text": [
      "2023-10-06 15:04:54.857343: I tensorflow/tsl/cuda/cudart_stub.cc:28] Could not find cuda drivers on your machine, GPU will not be used.\n",
      "2023-10-06 15:04:55.174027: I tensorflow/tsl/cuda/cudart_stub.cc:28] Could not find cuda drivers on your machine, GPU will not be used.\n",
      "2023-10-06 15:04:55.175556: I tensorflow/core/platform/cpu_feature_guard.cc:182] This TensorFlow binary is optimized to use available CPU instructions in performance-critical operations.\n",
      "To enable the following instructions: AVX2 FMA, in other operations, rebuild TensorFlow with the appropriate compiler flags.\n",
      "2023-10-06 15:05:07.027953: W tensorflow/compiler/tf2tensorrt/utils/py_utils.cc:38] TF-TRT Warning: Could not find TensorRT\n"
     ]
    }
   ],
   "source": [
    "import tensorflow as tf\n",
    "from tensorflow.keras.preprocessing.image import ImageDataGenerator\n",
    "\n",
    "import os\n",
    "import matplotlib.pyplot as plt\n",
    "import numpy as np"
   ]
  },
  {
   "cell_type": "code",
   "execution_count": 2,
   "id": "c72e2303",
   "metadata": {},
   "outputs": [],
   "source": [
    "import logging\n",
    "logger = tf.get_logger()\n",
    "logger.setLevel(logging.ERROR)"
   ]
  },
  {
   "cell_type": "markdown",
   "id": "f8547433",
   "metadata": {},
   "source": [
    "### Data Loading"
   ]
  },
  {
   "cell_type": "markdown",
   "id": "b8a830dc",
   "metadata": {},
   "source": [
    "#### Download the datasets and create the path for training and validation"
   ]
  },
  {
   "cell_type": "code",
   "execution_count": 3,
   "id": "cbb4d7da",
   "metadata": {},
   "outputs": [
    {
     "name": "stdout",
     "output_type": "stream",
     "text": [
      "/home/login/.keras/datasets\r\n",
      "/home/login/.keras/datasets/cats_and_dogs_filtered\r\n",
      "/home/login/.keras/datasets/cats_and_dogs_filtered/validation\r\n",
      "/home/login/.keras/datasets/cats_and_dogs_filtered/validation/dogs\r\n",
      "/home/login/.keras/datasets/cats_and_dogs_filtered/validation/cats\r\n",
      "/home/login/.keras/datasets/cats_and_dogs_filtered/train\r\n",
      "/home/login/.keras/datasets/cats_and_dogs_filtered/train/dogs\r\n",
      "/home/login/.keras/datasets/cats_and_dogs_filtered/train/cats\r\n"
     ]
    }
   ],
   "source": [
    "_URL = 'https://storage.googleapis.com/mledu-datasets/cats_and_dogs_filtered.zip'\n",
    "zip_dir = tf.keras.utils.get_file('cats_and_dogs_filterted.zip', origin=_URL, extract=True)\n",
    "\n",
    "zip_dir_base = os.path.dirname(zip_dir)\n",
    "!find $zip_dir_base -type d -print"
   ]
  },
  {
   "cell_type": "code",
   "execution_count": 4,
   "id": "ceed402b",
   "metadata": {},
   "outputs": [
    {
     "name": "stdout",
     "output_type": "stream",
     "text": [
      "/home/login/.keras/datasets/cats_and_dogs_filtered\n",
      "/home/login/.keras/datasets/cats_and_dogs_filtered/train\n",
      "/home/login/.keras/datasets/cats_and_dogs_filtered/train/cats\n",
      "/home/login/.keras/datasets/cats_and_dogs_filtered/validation/dogs\n"
     ]
    }
   ],
   "source": [
    "base_dir = os.path.join(os.path.dirname(zip_dir), 'cats_and_dogs_filtered')\n",
    "print(base_dir)\n",
    "train_dir = os.path.join(base_dir, 'train')\n",
    "print(train_dir)\n",
    "validation_dir = os.path.join(base_dir, 'validation')\n",
    "\n",
    "\n",
    "train_cats_dir = os.path.join(train_dir, 'cats')\n",
    "print(train_cats_dir)\n",
    "train_dogs_dir = os.path.join(train_dir, 'dogs')\n",
    "validation_cats_dir = os.path.join(validation_dir, 'cats')\n",
    "validation_dogs_dir = os.path.join(validation_dir, 'dogs')\n",
    "print(validation_dogs_dir)"
   ]
  },
  {
   "cell_type": "markdown",
   "id": "2b262981",
   "metadata": {},
   "source": [
    "#### Trying to access a manually downloaded dataset from my local files"
   ]
  },
  {
   "cell_type": "code",
   "execution_count": 6,
   "id": "4668086e",
   "metadata": {},
   "outputs": [
    {
     "name": "stdout",
     "output_type": "stream",
     "text": [
      "/home/login/Documents/Intro_to_TF/cats_and_dogs_filtered/\r\n",
      "/home/login/Documents/Intro_to_TF/cats_and_dogs_filtered/validation\r\n",
      "/home/login/Documents/Intro_to_TF/cats_and_dogs_filtered/validation/dogs\r\n",
      "/home/login/Documents/Intro_to_TF/cats_and_dogs_filtered/validation/cats\r\n",
      "/home/login/Documents/Intro_to_TF/cats_and_dogs_filtered/train\r\n",
      "/home/login/Documents/Intro_to_TF/cats_and_dogs_filtered/train/dogs\r\n",
      "/home/login/Documents/Intro_to_TF/cats_and_dogs_filtered/train/cats\r\n"
     ]
    }
   ],
   "source": [
    "path = '/home/login/Documents/Intro_to_TF/cats_and_dogs_filtered/'\n",
    "!find $path -type d -print"
   ]
  },
  {
   "cell_type": "code",
   "execution_count": 7,
   "id": "b7d75197",
   "metadata": {},
   "outputs": [
    {
     "name": "stdout",
     "output_type": "stream",
     "text": [
      "/home/login/Documents/Intro_to_TF/cats_and_dogs_filtered/train\n",
      "/home/login/Documents/Intro_to_TF/cats_and_dogs_filtered/validation\n"
     ]
    }
   ],
   "source": [
    "# Define the training dataset paths\n",
    "train_path = os.path.join(path, \"train\")\n",
    "print(train_path)\n",
    "train_cats_path = os.path.join(train_path, \"cats\")\n",
    "train_dogs_path = os.path.join(train_path, \"dogs\")\n",
    "\n",
    "# Define the validation dataset paths\n",
    "validation_path = os.path.join(path, \"validation\")\n",
    "print(validation_path)\n",
    "validation_cats_path = os.path.join(validation_path, \"cats\")\n",
    "validation_dogs_path = os.path.join(validation_path, \"dogs\")"
   ]
  },
  {
   "cell_type": "markdown",
   "id": "273b5386",
   "metadata": {},
   "source": [
    "### Understanding our data"
   ]
  },
  {
   "cell_type": "code",
   "execution_count": 9,
   "id": "faba48ec",
   "metadata": {},
   "outputs": [
    {
     "data": {
      "text/plain": [
       "['cat.760.jpg', 'cat.103.jpg', 'cat.127.jpg']"
      ]
     },
     "execution_count": 9,
     "metadata": {},
     "output_type": "execute_result"
    }
   ],
   "source": [
    "# Sample data\n",
    "os.listdir(train_cats_path)[32:35]"
   ]
  },
  {
   "cell_type": "code",
   "execution_count": 10,
   "id": "31c50afb",
   "metadata": {},
   "outputs": [
    {
     "name": "stdout",
     "output_type": "stream",
     "text": [
      "Number of trainng cats images: 1000\n",
      "Number of training dogs images: 1000\n",
      "\n",
      "Number of validation cats images: 500\n",
      "Number of validation dogs images: 500\n",
      "\n",
      "Total training data: 2000\n",
      "Total validation data: 1000\n"
     ]
    }
   ],
   "source": [
    "num_cats_train = len(os.listdir(train_cats_path))\n",
    "print(f\"Number of trainng cats images: {num_cats_train}\")\n",
    "num_dogs_train = len(os.listdir(train_dogs_path))\n",
    "print(f\"Number of training dogs images: {num_dogs_train}\", end = \"\\n\\n\")\n",
    "\n",
    "num_cats_val = len(os.listdir(validation_cats_path))\n",
    "print(f\"Number of validation cats images: {num_cats_val}\")\n",
    "num_dogs_val = len(os.listdir(validation_dogs_path))\n",
    "print(f\"Number of validation dogs images: {num_dogs_val}\", end = \"\\n\\n\")\n",
    "\n",
    "print(f\"Total training data: {num_cats_train + num_dogs_train}\")\n",
    "print(f\"Total validation data: {num_cats_val + num_dogs_val}\")"
   ]
  },
  {
   "cell_type": "code",
   "execution_count": 11,
   "id": "3d76ed62",
   "metadata": {},
   "outputs": [
    {
     "data": {
      "text/plain": [
       "'/home/login/Documents/Intro_to_TF/cats_and_dogs_filtered/train/cats'"
      ]
     },
     "execution_count": 11,
     "metadata": {},
     "output_type": "execute_result"
    }
   ],
   "source": [
    "train_cats_path"
   ]
  },
  {
   "cell_type": "markdown",
   "id": "50efc894",
   "metadata": {},
   "source": [
    "#### Setting model parameters"
   ]
  },
  {
   "cell_type": "code",
   "execution_count": 13,
   "id": "d0c6850d",
   "metadata": {},
   "outputs": [],
   "source": [
    "BATCH_SIZE = 100\n",
    "IMAGE_SHAPE = 150"
   ]
  },
  {
   "cell_type": "markdown",
   "id": "7a1405ad",
   "metadata": {},
   "source": [
    "### Data Preparation"
   ]
  },
  {
   "cell_type": "code",
   "execution_count": 14,
   "id": "fa78d73b",
   "metadata": {},
   "outputs": [],
   "source": [
    "train_image_generator = ImageDataGenerator(rescale = 1./255)\n",
    "validation_image_generator = ImageDataGenerator(rescale = 1./255)"
   ]
  },
  {
   "cell_type": "code",
   "execution_count": null,
   "id": "dc1ce336",
   "metadata": {},
   "outputs": [],
   "source": []
  }
 ],
 "metadata": {
  "kernelspec": {
   "display_name": "My Virtual Environment",
   "language": "python",
   "name": "myenv"
  },
  "language_info": {
   "codemirror_mode": {
    "name": "ipython",
    "version": 3
   },
   "file_extension": ".py",
   "mimetype": "text/x-python",
   "name": "python",
   "nbconvert_exporter": "python",
   "pygments_lexer": "ipython3",
   "version": "3.11.4"
  }
 },
 "nbformat": 4,
 "nbformat_minor": 5
}
