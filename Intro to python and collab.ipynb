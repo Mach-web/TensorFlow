{
 "cells": [
  {
   "cell_type": "markdown",
   "id": "d272f33b",
   "metadata": {},
   "source": [
    "### Functions "
   ]
  },
  {
   "cell_type": "code",
   "execution_count": 20,
   "id": "62ca6e13",
   "metadata": {},
   "outputs": [
    {
     "name": "stdout",
     "output_type": "stream",
     "text": [
      "Now running with i: 8\n",
      "hello world, x was < 10\n",
      "The result from helloWorldXY is: 8\n",
      "Now running with i: 13\n",
      "hello world, x is between 10 and 20\n",
      "The result from helloWorldXY is: 13\n",
      "Now running with i: 18\n",
      "hello world, x is between 10 and 20\n",
      "The result from helloWorldXY is: 18\n",
      "Now running with i: 23\n",
      "Hello world, x is > 20\n",
      "The result from helloWorldXY is: 23\n"
     ]
    }
   ],
   "source": [
    "def helloWorldXY(x, y):\n",
    "    if x < 10:\n",
    "        print(\"hello world, x was < 10\")\n",
    "    elif x < 20:\n",
    "        print(\"hello world, x is between 10 and 20\")\n",
    "    else:\n",
    "        print(\"Hello world, x is > 20\")\n",
    "    return x + y\n",
    "\n",
    "for i in range(8, 25, 5):\n",
    "    print(f\"Now running with i: {i}\")\n",
    "    r = helloWorldXY(i, i)\n",
    "    print(\"The result from helloWorldXY is: {}\".format(i, r))\n",
    "              "
   ]
  },
  {
   "cell_type": "markdown",
   "id": "74b8aba7",
   "metadata": {},
   "source": [
    "### Loops"
   ]
  },
  {
   "cell_type": "code",
   "execution_count": 21,
   "id": "2d99ab6d",
   "metadata": {},
   "outputs": [
    {
     "name": "stdout",
     "output_type": "stream",
     "text": [
      "0\t1\t2\t\n",
      "0\t1\t3\t7\t\n",
      "102\t103\t104\t105\t106\t107\t108\t109\t110\t111\t"
     ]
    }
   ],
   "source": [
    "for _ in range(3):\n",
    "    print(_, end = \"\\t\")\n",
    "    \n",
    "print()\n",
    "for _ in [0, 1, 3, 7]:\n",
    "    print(_, end  = \"\\t\")\n",
    "\n",
    "print()\n",
    "i = 102\n",
    "while i < 112:\n",
    "    print(i, end = \"\\t\")\n",
    "    i += 1"
   ]
  },
  {
   "cell_type": "markdown",
   "id": "4c73aa4e",
   "metadata": {},
   "source": [
    "### Continue and break"
   ]
  },
  {
   "cell_type": "code",
   "execution_count": 24,
   "id": "08818fa4",
   "metadata": {},
   "outputs": [
    {
     "name": "stdout",
     "output_type": "stream",
     "text": [
      "Enter a while loop\n"
     ]
    }
   ],
   "source": [
    "while True:\n",
    "    print(\"Enter a while loop\")\n",
    "    break"
   ]
  },
  {
   "cell_type": "markdown",
   "id": "de496a56",
   "metadata": {},
   "source": [
    "## Numpy and Lists"
   ]
  },
  {
   "cell_type": "code",
   "execution_count": 48,
   "id": "ec5dd29d",
   "metadata": {},
   "outputs": [
    {
     "name": "stdout",
     "output_type": "stream",
     "text": [
      "['Hello' 'World' '!!!!']\n",
      "Hello\n",
      "World\n",
      "!!!!\n",
      "1\n",
      "Hi \n",
      "There\n",
      "Index: 0 Value: Hello\n",
      "Index: 1 Value: World\n",
      "Index: 2 Value: !!!!\n",
      "Index: 3 Value: 1\n",
      "Index: 4 Value: Hi \n",
      "Index: 5 Value: There\n"
     ]
    }
   ],
   "source": [
    "import numpy as np\n",
    "\n",
    "# Appending an element\n",
    "a = np.array([\"Hello\", \"World\"])\n",
    "a = np.append(a, \"!!!!\")\n",
    "print(a)\n",
    "a = np.append(a, [1, \"Hi \", \"There\"])\n",
    "\n",
    "for _ in a:\n",
    "    print(_)\n",
    "    \n",
    "for i, j in enumerate(a):\n",
    "    print(\"Index: {} Value: {}\".format(i, j))"
   ]
  },
  {
   "cell_type": "markdown",
   "id": "e5cd4413",
   "metadata": {},
   "source": [
    "### Np functions"
   ]
  },
  {
   "cell_type": "code",
   "execution_count": 49,
   "id": "3d4b3d0a",
   "metadata": {},
   "outputs": [
    {
     "name": "stdout",
     "output_type": "stream",
     "text": [
      "The maximum is 100\n",
      "The average is 45.42857142857143\n",
      "The max index is 1\n"
     ]
    }
   ],
   "source": [
    "b = np.array([0, 100, 3, 6, 76, 90, 43])\n",
    "print(f\"The maximum is {np.max(b)}\")\n",
    "print(f\"The average is {np.average(b)}\")\n",
    "print(f\"The max index is {np.argmax(b)}\")"
   ]
  },
  {
   "cell_type": "markdown",
   "id": "fc7a86f1",
   "metadata": {},
   "source": [
    "### Type"
   ]
  },
  {
   "cell_type": "code",
   "execution_count": 53,
   "id": "c89c907f",
   "metadata": {},
   "outputs": [
    {
     "name": "stdout",
     "output_type": "stream",
     "text": [
      "Datatype of a is <class 'numpy.ndarray'> and that of b is <class 'numpy.ndarray'>\n",
      "Datatype of a[3] is <class 'numpy.str_'> and that of b[3] is <class 'numpy.int64'>\n"
     ]
    }
   ],
   "source": [
    "print(\"Datatype of a is {} and that of b is {}\".format(type(a), type(b)))\n",
    "print(\"Datatype of a[3] is {} and that of b[3] is {}\".format(type(a[3]), type(b[3])))"
   ]
  },
  {
   "cell_type": "code",
   "execution_count": 55,
   "id": "1bc56e64",
   "metadata": {},
   "outputs": [
    {
     "name": "stdout",
     "output_type": "stream",
     "text": [
      "Datatype of a is <U21 and that of b is int64\n",
      "Datatype of a[3] is <U21 and that of b[3] is int64\n"
     ]
    }
   ],
   "source": [
    "print(\"Datatype of a is {} and that of b is {}\".format(a.dtype, b.dtype))\n",
    "print(\"Datatype of a[3] is {} and that of b[3] is {}\".format(a.dtype, b[3].dtype))"
   ]
  },
  {
   "cell_type": "markdown",
   "id": "7145835b",
   "metadata": {},
   "source": [
    "### Random "
   ]
  },
  {
   "cell_type": "code",
   "execution_count": 87,
   "id": "fbf00547",
   "metadata": {},
   "outputs": [
    {
     "name": "stdout",
     "output_type": "stream",
     "text": [
      "[   4 -383  362   -8   54  -91]\n"
     ]
    }
   ],
   "source": [
    "c = np.random.randint(-500,500, 6)\n",
    "print(c)"
   ]
  },
  {
   "cell_type": "code",
   "execution_count": 75,
   "id": "f029a17c",
   "metadata": {},
   "outputs": [
    {
     "name": "stdout",
     "output_type": "stream",
     "text": [
      "[0.50649399 0.49104771 0.24283773 0.93815172 0.78589119 0.71535846]\n"
     ]
    }
   ],
   "source": [
    "d = np.random.random((6))\n",
    "print(d)"
   ]
  },
  {
   "cell_type": "code",
   "execution_count": 81,
   "id": "78b6a381",
   "metadata": {},
   "outputs": [
    {
     "name": "stdout",
     "output_type": "stream",
     "text": [
      "[[0.480692   0.85681576 0.59623064]\n",
      " [0.22740505 0.37871858 0.28474104]]\n"
     ]
    }
   ],
   "source": [
    "e = np.random.random((2, 3))\n",
    "print(e)"
   ]
  },
  {
   "cell_type": "code",
   "execution_count": 93,
   "id": "5f43addc",
   "metadata": {},
   "outputs": [
    {
     "data": {
      "text/plain": [
       "array([ True,  True,  True,  True,  True,  True])"
      ]
     },
     "execution_count": 93,
     "metadata": {},
     "output_type": "execute_result"
    }
   ],
   "source": [
    "e.ravel() == e.flatten()"
   ]
  },
  {
   "cell_type": "code",
   "execution_count": 85,
   "id": "d9dd746c",
   "metadata": {},
   "outputs": [
    {
     "data": {
      "text/plain": [
       "array([0.480692  , 0.85681576, 0.59623064, 0.22740505, 0.37871858,\n",
       "       0.28474104])"
      ]
     },
     "execution_count": 85,
     "metadata": {},
     "output_type": "execute_result"
    }
   ],
   "source": [
    "e.flatten()"
   ]
  },
  {
   "cell_type": "code",
   "execution_count": 90,
   "id": "5cc34c34",
   "metadata": {},
   "outputs": [
    {
     "data": {
      "text/plain": [
       "True"
      ]
     },
     "execution_count": 90,
     "metadata": {},
     "output_type": "execute_result"
    }
   ],
   "source": [
    "all(e.ravel() == e.flatten())"
   ]
  },
  {
   "cell_type": "code",
   "execution_count": 91,
   "id": "8d512962",
   "metadata": {},
   "outputs": [
    {
     "data": {
      "text/plain": [
       "True"
      ]
     },
     "execution_count": 91,
     "metadata": {},
     "output_type": "execute_result"
    }
   ],
   "source": [
    "(e.ravel() == e.flatten()).all()"
   ]
  },
  {
   "cell_type": "code",
   "execution_count": 96,
   "id": "4016662d",
   "metadata": {},
   "outputs": [
    {
     "data": {
      "text/plain": [
       "array([   4.480692  , -382.14318424,  362.59623064,   -7.77259495,\n",
       "         54.37871858,  -90.71525896])"
      ]
     },
     "execution_count": 96,
     "metadata": {},
     "output_type": "execute_result"
    }
   ],
   "source": [
    "c + e.flatten()"
   ]
  },
  {
   "cell_type": "code",
   "execution_count": 99,
   "id": "5283f895",
   "metadata": {},
   "outputs": [
    {
     "name": "stdout",
     "output_type": "stream",
     "text": [
      "[[0.76876456 0.04052609 0.2288845 ]\n",
      " [0.79049673 0.09330056 0.4164229 ]]\n"
     ]
    }
   ],
   "source": [
    "f = np.random.rand(2, 3)\n",
    "print(f)"
   ]
  },
  {
   "cell_type": "code",
   "execution_count": 103,
   "id": "e1a1a3c9",
   "metadata": {},
   "outputs": [
    {
     "data": {
      "text/plain": [
       "array([[1., 1., 1.],\n",
       "       [1., 1., 1.]])"
      ]
     },
     "execution_count": 103,
     "metadata": {},
     "output_type": "execute_result"
    }
   ],
   "source": [
    "np.ones([2, 3])"
   ]
  },
  {
   "cell_type": "markdown",
   "id": "c2bb5817",
   "metadata": {},
   "source": [
    "### Shape"
   ]
  },
  {
   "cell_type": "code",
   "execution_count": 107,
   "id": "f1f529c1",
   "metadata": {},
   "outputs": [
    {
     "data": {
      "text/plain": [
       "(2, 3)"
      ]
     },
     "execution_count": 107,
     "metadata": {},
     "output_type": "execute_result"
    }
   ],
   "source": [
    "f.shape"
   ]
  },
  {
   "cell_type": "code",
   "execution_count": 108,
   "id": "16a5c8e3",
   "metadata": {},
   "outputs": [
    {
     "data": {
      "text/plain": [
       "(6,)"
      ]
     },
     "execution_count": 108,
     "metadata": {},
     "output_type": "execute_result"
    }
   ],
   "source": [
    "c.shape"
   ]
  },
  {
   "cell_type": "code",
   "execution_count": 116,
   "id": "94fd0914",
   "metadata": {},
   "outputs": [
    {
     "name": "stdout",
     "output_type": "stream",
     "text": [
      "The shape of [[[0. 0. 0.]\n",
      "  [0. 0. 0.]]\n",
      "\n",
      " [[0. 0. 0.]\n",
      "  [0. 0. 0.]]\n",
      "\n",
      " [[0. 0. 0.]\n",
      "  [0. 0. 0.]]\n",
      "\n",
      " [[0. 0. 0.]\n",
      "  [0. 0. 0.]]] is: (4, 2, 3)\n"
     ]
    }
   ],
   "source": [
    "g = np.zeros([4, 2, 3])\n",
    "print(f\"The shape of {g} is: {g.shape}\")"
   ]
  },
  {
   "cell_type": "markdown",
   "id": "98dbbb19",
   "metadata": {},
   "source": [
    "### Jupyter Specifics"
   ]
  },
  {
   "cell_type": "code",
   "execution_count": 119,
   "id": "3934411f",
   "metadata": {},
   "outputs": [
    {
     "name": "stdout",
     "output_type": "stream",
     "text": [
      "Requirement already satisfied: numpy in /home/login/anaconda3/lib/python3.11/site-packages (1.24.3)\r\n"
     ]
    }
   ],
   "source": [
    "!pip install numpy"
   ]
  },
  {
   "cell_type": "code",
   "execution_count": 121,
   "id": "d42d3b8b",
   "metadata": {},
   "outputs": [
    {
     "name": "stdout",
     "output_type": "stream",
     "text": [
      "total 435436\r\n",
      "-rw-rw-r-- 1 login login  53843883 Sep 19 08:52  Going+Further+With+CNNs+Videos.zip\r\n",
      "-rw-rw-r-- 1 login login  22214630 Sep 19 08:48  Introduction+to+CNNs+Videos.zip\r\n",
      "drwxrwxr-x 2 login login      4096 Sep 21 14:34  Introduction+to+Machine+Learning+Videos\r\n",
      "-rw-rw-r-- 1 login login  23547498 Sep 19 08:46  Introduction+to+Machine+Learning+Videos.zip\r\n",
      "-rw-rw-r-- 1 login login   8734369 Sep 19 09:04  Introduction+to+TensorFlow+Lite+Videos.zip\r\n",
      "-rw-rw-r-- 1 login login     13007 Sep 22 18:04 'Intro to python and collab.ipynb'\r\n",
      "-rw-rw-r-- 1 login login  75028407 Sep 19 09:04  NLP_+Recurrent+Neural+Networks+Videos.zip\r\n",
      "-rw-rw-r-- 1 login login  50042810 Sep 19 09:04  NLP_+Tokenization+and+Embeddings+Videos.zip\r\n",
      "-rw-rw-r-- 1 login login  23865367 Sep 19 09:03  Saving+and+Loading+Models+Videos.zip\r\n",
      "-rw-rw-r-- 1 login login 118112114 Sep 19 09:04  Time+Series+Forecasting+Videos.zip\r\n",
      "-rw-rw-r-- 1 login login  25246508 Sep 19 08:52  Transfer+Learning+Videos.zip\r\n",
      "drwxrwxr-x 2 login login      4096 Sep 22 17:03  Welcome+to+the+Course+Videos\r\n",
      "-rw-rw-r-- 1 login login  15686829 Sep 19 08:45  Welcome+to+the+Course+Videos.zip\r\n",
      "-rw-rw-r-- 1 login login  29521756 Sep 19 08:47  Your+First+Model+-+Fashion+MNIST+Videos.zip\r\n"
     ]
    }
   ],
   "source": [
    "!ls -l"
   ]
  },
  {
   "cell_type": "code",
   "execution_count": 129,
   "id": "26559990",
   "metadata": {},
   "outputs": [
    {
     "name": "stdout",
     "output_type": "stream",
     "text": [
      "/home/login/Documents/Intro to TF\r\n"
     ]
    }
   ],
   "source": [
    "!pwd"
   ]
  },
  {
   "cell_type": "code",
   "execution_count": 132,
   "id": "ed38e5d5",
   "metadata": {},
   "outputs": [
    {
     "name": "stdout",
     "output_type": "stream",
     "text": [
      "total 435436\r\n",
      "-rw-rw-r-- 1 login login  53843883 Sep 19 08:52  Going+Further+With+CNNs+Videos.zip\r\n",
      "-rw-rw-r-- 1 login login  22214630 Sep 19 08:48  Introduction+to+CNNs+Videos.zip\r\n",
      "drwxrwxr-x 2 login login      4096 Sep 21 14:34  Introduction+to+Machine+Learning+Videos\r\n",
      "-rw-rw-r-- 1 login login  23547498 Sep 19 08:46  Introduction+to+Machine+Learning+Videos.zip\r\n",
      "-rw-rw-r-- 1 login login   8734369 Sep 19 09:04  Introduction+to+TensorFlow+Lite+Videos.zip\r\n",
      "-rw-rw-r-- 1 login login     14314 Sep 22 18:52 'Intro to python and collab.ipynb'\r\n",
      "-rw-rw-r-- 1 login login  75028407 Sep 19 09:04  NLP_+Recurrent+Neural+Networks+Videos.zip\r\n",
      "-rw-rw-r-- 1 login login  50042810 Sep 19 09:04  NLP_+Tokenization+and+Embeddings+Videos.zip\r\n",
      "-rw-rw-r-- 1 login login  23865367 Sep 19 09:03  Saving+and+Loading+Models+Videos.zip\r\n",
      "-rw-rw-r-- 1 login login 118112114 Sep 19 09:04  Time+Series+Forecasting+Videos.zip\r\n",
      "-rw-rw-r-- 1 login login  25246508 Sep 19 08:52  Transfer+Learning+Videos.zip\r\n",
      "drwxrwxr-x 2 login login      4096 Sep 22 17:03  Welcome+to+the+Course+Videos\r\n",
      "-rw-rw-r-- 1 login login  15686829 Sep 19 08:45  Welcome+to+the+Course+Videos.zip\r\n",
      "-rw-rw-r-- 1 login login  29521756 Sep 19 08:47  Your+First+Model+-+Fashion+MNIST+Videos.zip\r\n"
     ]
    }
   ],
   "source": [
    "!cd /\n",
    "!ls -l"
   ]
  },
  {
   "cell_type": "code",
   "execution_count": null,
   "id": "3477a42e",
   "metadata": {},
   "outputs": [],
   "source": []
  }
 ],
 "metadata": {
  "kernelspec": {
   "display_name": "My Virtual Environment",
   "language": "python",
   "name": "myenv"
  },
  "language_info": {
   "codemirror_mode": {
    "name": "ipython",
    "version": 3
   },
   "file_extension": ".py",
   "mimetype": "text/x-python",
   "name": "python",
   "nbconvert_exporter": "python",
   "pygments_lexer": "ipython3",
   "version": "3.11.4"
  }
 },
 "nbformat": 4,
 "nbformat_minor": 5
}
