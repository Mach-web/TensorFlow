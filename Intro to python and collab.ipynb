{
 "cells": [
  {
   "cell_type": "markdown",
   "id": "4582cb03",
   "metadata": {},
   "source": [
    "### Functions "
   ]
  },
  {
   "cell_type": "code",
   "execution_count": 20,
   "id": "9c0c6910",
   "metadata": {},
   "outputs": [
    {
     "name": "stdout",
     "output_type": "stream",
     "text": [
      "Now running with i: 8\n",
      "hello world, x was < 10\n",
      "The result from helloWorldXY is: 8\n",
      "Now running with i: 13\n",
      "hello world, x is between 10 and 20\n",
      "The result from helloWorldXY is: 13\n",
      "Now running with i: 18\n",
      "hello world, x is between 10 and 20\n",
      "The result from helloWorldXY is: 18\n",
      "Now running with i: 23\n",
      "Hello world, x is > 20\n",
      "The result from helloWorldXY is: 23\n"
     ]
    }
   ],
   "source": [
    "def helloWorldXY(x, y):\n",
    "    if x < 10:\n",
    "        print(\"hello world, x was < 10\")\n",
    "    elif x < 20:\n",
    "        print(\"hello world, x is between 10 and 20\")\n",
    "    else:\n",
    "        print(\"Hello world, x is > 20\")\n",
    "    return x + y\n",
    "\n",
    "for i in range(8, 25, 5):\n",
    "    print(f\"Now running with i: {i}\")\n",
    "    r = helloWorldXY(i, i)\n",
    "    print(\"The result from helloWorldXY is: {}\".format(i, r))\n",
    "              "
   ]
  },
  {
   "cell_type": "markdown",
   "id": "7f5c79b2",
   "metadata": {},
   "source": [
    "### Loops"
   ]
  },
  {
   "cell_type": "code",
   "execution_count": 21,
   "id": "96e9b490",
   "metadata": {},
   "outputs": [
    {
     "name": "stdout",
     "output_type": "stream",
     "text": [
      "0\t1\t2\t\n",
      "0\t1\t3\t7\t\n",
      "102\t103\t104\t105\t106\t107\t108\t109\t110\t111\t"
     ]
    }
   ],
   "source": [
    "for _ in range(3):\n",
    "    print(_, end = \"\\t\")\n",
    "    \n",
    "print()\n",
    "for _ in [0, 1, 3, 7]:\n",
    "    print(_, end  = \"\\t\")\n",
    "\n",
    "print()\n",
    "i = 102\n",
    "while i < 112:\n",
    "    print(i, end = \"\\t\")\n",
    "    i += 1"
   ]
  },
  {
   "cell_type": "markdown",
   "id": "094a8387",
   "metadata": {},
   "source": [
    "### Continue and break"
   ]
  },
  {
   "cell_type": "code",
   "execution_count": 24,
   "id": "89554b03",
   "metadata": {},
   "outputs": [
    {
     "name": "stdout",
     "output_type": "stream",
     "text": [
      "Enter a while loop\n"
     ]
    }
   ],
   "source": [
    "while True:\n",
    "    print(\"Enter a while loop\")\n",
    "    break"
   ]
  },
  {
   "cell_type": "markdown",
   "id": "93b82949",
   "metadata": {},
   "source": [
    "## Numpy and Lists"
   ]
  },
  {
   "cell_type": "code",
   "execution_count": 48,
   "id": "72dd39b5",
   "metadata": {},
   "outputs": [
    {
     "name": "stdout",
     "output_type": "stream",
     "text": [
      "['Hello' 'World' '!!!!']\n",
      "Hello\n",
      "World\n",
      "!!!!\n",
      "1\n",
      "Hi \n",
      "There\n",
      "Index: 0 Value: Hello\n",
      "Index: 1 Value: World\n",
      "Index: 2 Value: !!!!\n",
      "Index: 3 Value: 1\n",
      "Index: 4 Value: Hi \n",
      "Index: 5 Value: There\n"
     ]
    }
   ],
   "source": [
    "import numpy as np\n",
    "\n",
    "# Appending an element\n",
    "a = np.array([\"Hello\", \"World\"])\n",
    "a = np.append(a, \"!!!!\")\n",
    "print(a)\n",
    "a = np.append(a, [1, \"Hi \", \"There\"])\n",
    "\n",
    "for _ in a:\n",
    "    print(_)\n",
    "    \n",
    "for i, j in enumerate(a):\n",
    "    print(\"Index: {} Value: {}\".format(i, j))"
   ]
  },
  {
   "cell_type": "markdown",
   "id": "6a448fc2",
   "metadata": {},
   "source": [
    "### Np functions"
   ]
  },
  {
   "cell_type": "code",
   "execution_count": 49,
   "id": "51925277",
   "metadata": {},
   "outputs": [
    {
     "name": "stdout",
     "output_type": "stream",
     "text": [
      "The maximum is 100\n",
      "The average is 45.42857142857143\n",
      "The max index is 1\n"
     ]
    }
   ],
   "source": [
    "b = np.array([0, 100, 3, 6, 76, 90, 43])\n",
    "print(f\"The maximum is {np.max(b)}\")\n",
    "print(f\"The average is {np.average(b)}\")\n",
    "print(f\"The max index is {np.argmax(b)}\")"
   ]
  },
  {
   "cell_type": "markdown",
   "id": "d74d69ec",
   "metadata": {},
   "source": [
    "### Type"
   ]
  },
  {
   "cell_type": "code",
   "execution_count": 53,
   "id": "a8a9fe09",
   "metadata": {},
   "outputs": [
    {
     "name": "stdout",
     "output_type": "stream",
     "text": [
      "Datatype of a is <class 'numpy.ndarray'> and that of b is <class 'numpy.ndarray'>\n",
      "Datatype of a[3] is <class 'numpy.str_'> and that of b[3] is <class 'numpy.int64'>\n"
     ]
    }
   ],
   "source": [
    "print(\"Datatype of a is {} and that of b is {}\".format(type(a), type(b)))\n",
    "print(\"Datatype of a[3] is {} and that of b[3] is {}\".format(type(a[3]), type(b[3])))"
   ]
  },
  {
   "cell_type": "code",
   "execution_count": 55,
   "id": "70b6d184",
   "metadata": {},
   "outputs": [
    {
     "name": "stdout",
     "output_type": "stream",
     "text": [
      "Datatype of a is <U21 and that of b is int64\n",
      "Datatype of a[3] is <U21 and that of b[3] is int64\n"
     ]
    }
   ],
   "source": [
    "print(\"Datatype of a is {} and that of b is {}\".format(a.dtype, b.dtype))\n",
    "print(\"Datatype of a[3] is {} and that of b[3] is {}\".format(a.dtype, b[3].dtype))"
   ]
  },
  {
   "cell_type": "markdown",
   "id": "15e42014",
   "metadata": {},
   "source": [
    "### Random "
   ]
  },
  {
   "cell_type": "code",
   "execution_count": 87,
   "id": "8228e0ba",
   "metadata": {},
   "outputs": [
    {
     "name": "stdout",
     "output_type": "stream",
     "text": [
      "[   4 -383  362   -8   54  -91]\n"
     ]
    }
   ],
   "source": [
    "c = np.random.randint(-500,500, 6)\n",
    "print(c)"
   ]
  },
  {
   "cell_type": "code",
   "execution_count": 75,
   "id": "14e09626",
   "metadata": {},
   "outputs": [
    {
     "name": "stdout",
     "output_type": "stream",
     "text": [
      "[0.50649399 0.49104771 0.24283773 0.93815172 0.78589119 0.71535846]\n"
     ]
    }
   ],
   "source": [
    "d = np.random.random((6))\n",
    "print(d)"
   ]
  },
  {
   "cell_type": "code",
   "execution_count": 81,
   "id": "4ce2df2a",
   "metadata": {},
   "outputs": [
    {
     "name": "stdout",
     "output_type": "stream",
     "text": [
      "[[0.480692   0.85681576 0.59623064]\n",
      " [0.22740505 0.37871858 0.28474104]]\n"
     ]
    }
   ],
   "source": [
    "e = np.random.random((2, 3))\n",
    "print(e)"
   ]
  },
  {
   "cell_type": "code",
   "execution_count": 93,
   "id": "09604165",
   "metadata": {},
   "outputs": [
    {
     "data": {
      "text/plain": [
       "array([ True,  True,  True,  True,  True,  True])"
      ]
     },
     "execution_count": 93,
     "metadata": {},
     "output_type": "execute_result"
    }
   ],
   "source": [
    "e.ravel() == e.flatten()"
   ]
  },
  {
   "cell_type": "code",
   "execution_count": 85,
   "id": "f4c0a29b",
   "metadata": {},
   "outputs": [
    {
     "data": {
      "text/plain": [
       "array([0.480692  , 0.85681576, 0.59623064, 0.22740505, 0.37871858,\n",
       "       0.28474104])"
      ]
     },
     "execution_count": 85,
     "metadata": {},
     "output_type": "execute_result"
    }
   ],
   "source": [
    "e.flatten()"
   ]
  },
  {
   "cell_type": "code",
   "execution_count": 90,
   "id": "73a416bf",
   "metadata": {},
   "outputs": [
    {
     "data": {
      "text/plain": [
       "True"
      ]
     },
     "execution_count": 90,
     "metadata": {},
     "output_type": "execute_result"
    }
   ],
   "source": [
    "all(e.ravel() == e.flatten())"
   ]
  },
  {
   "cell_type": "code",
   "execution_count": 91,
   "id": "4edb83c3",
   "metadata": {},
   "outputs": [
    {
     "data": {
      "text/plain": [
       "True"
      ]
     },
     "execution_count": 91,
     "metadata": {},
     "output_type": "execute_result"
    }
   ],
   "source": [
    "(e.ravel() == e.flatten()).all()"
   ]
  },
  {
   "cell_type": "code",
   "execution_count": 96,
   "id": "34b9ce3c",
   "metadata": {},
   "outputs": [
    {
     "data": {
      "text/plain": [
       "array([   4.480692  , -382.14318424,  362.59623064,   -7.77259495,\n",
       "         54.37871858,  -90.71525896])"
      ]
     },
     "execution_count": 96,
     "metadata": {},
     "output_type": "execute_result"
    }
   ],
   "source": [
    "c + e.flatten()"
   ]
  },
  {
   "cell_type": "code",
   "execution_count": 99,
   "id": "1e9b151d",
   "metadata": {},
   "outputs": [
    {
     "name": "stdout",
     "output_type": "stream",
     "text": [
      "[[0.76876456 0.04052609 0.2288845 ]\n",
      " [0.79049673 0.09330056 0.4164229 ]]\n"
     ]
    }
   ],
   "source": [
    "f = np.random.rand(2, 3)\n",
    "print(f)"
   ]
  },
  {
   "cell_type": "code",
   "execution_count": 103,
   "id": "2fbf000f",
   "metadata": {},
   "outputs": [
    {
     "data": {
      "text/plain": [
       "array([[1., 1., 1.],\n",
       "       [1., 1., 1.]])"
      ]
     },
     "execution_count": 103,
     "metadata": {},
     "output_type": "execute_result"
    }
   ],
   "source": [
    "np.ones([2, 3])"
   ]
  },
  {
   "cell_type": "markdown",
   "id": "3bd06c02",
   "metadata": {},
   "source": [
    "### Shape"
   ]
  },
  {
   "cell_type": "code",
   "execution_count": 107,
   "id": "f8361d18",
   "metadata": {},
   "outputs": [
    {
     "data": {
      "text/plain": [
       "(2, 3)"
      ]
     },
     "execution_count": 107,
     "metadata": {},
     "output_type": "execute_result"
    }
   ],
   "source": [
    "f.shape"
   ]
  },
  {
   "cell_type": "code",
   "execution_count": 108,
   "id": "330724b2",
   "metadata": {},
   "outputs": [
    {
     "data": {
      "text/plain": [
       "(6,)"
      ]
     },
     "execution_count": 108,
     "metadata": {},
     "output_type": "execute_result"
    }
   ],
   "source": [
    "c.shape"
   ]
  },
  {
   "cell_type": "code",
   "execution_count": 116,
   "id": "c2135aea",
   "metadata": {},
   "outputs": [
    {
     "name": "stdout",
     "output_type": "stream",
     "text": [
      "The shape of [[[0. 0. 0.]\n",
      "  [0. 0. 0.]]\n",
      "\n",
      " [[0. 0. 0.]\n",
      "  [0. 0. 0.]]\n",
      "\n",
      " [[0. 0. 0.]\n",
      "  [0. 0. 0.]]\n",
      "\n",
      " [[0. 0. 0.]\n",
      "  [0. 0. 0.]]] is: (4, 2, 3)\n"
     ]
    }
   ],
   "source": [
    "g = np.zeros([4, 2, 3])\n",
    "print(f\"The shape of {g} is: {g.shape}\")"
   ]
  },
  {
   "cell_type": "code",
   "execution_count": null,
   "id": "573b3dd1",
   "metadata": {},
   "outputs": [],
   "source": [
    "!pip install nump"
   ]
  }
 ],
 "metadata": {
  "kernelspec": {
   "display_name": "My Virtual Environment",
   "language": "python",
   "name": "myenv"
  },
  "language_info": {
   "codemirror_mode": {
    "name": "ipython",
    "version": 3
   },
   "file_extension": ".py",
   "mimetype": "text/x-python",
   "name": "python",
   "nbconvert_exporter": "python",
   "pygments_lexer": "ipython3",
   "version": "3.11.4"
  }
 },
 "nbformat": 4,
 "nbformat_minor": 5
}
