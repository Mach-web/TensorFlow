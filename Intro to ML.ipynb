{
 "cells": [
  {
   "cell_type": "markdown",
   "id": "a735df7e",
   "metadata": {},
   "source": [
    "## Building a neural network to convert degrees celsius to fahrenheit"
   ]
  },
  {
   "cell_type": "code",
   "execution_count": 95,
   "id": "af9c781f",
   "metadata": {},
   "outputs": [],
   "source": [
    "# Import the necessary modules\n",
    "import tensorflow as tf\n",
    "# tf.logging.set_verbosity(tf.logging.ERROR)\n",
    "import matplotlib.pyplot as plt\n",
    "\n",
    "import numpy as np\n"
   ]
  },
  {
   "cell_type": "code",
   "execution_count": 96,
   "id": "a4051a50",
   "metadata": {},
   "outputs": [],
   "source": [
    "celsius = np.array([-40, -10, 0, 8, 15, 22, 38], dtype = float)\n",
    "fahrenheit = np.array([-40, 14, 32, 46, 59, 72, 100], dtype = float)"
   ]
  },
  {
   "cell_type": "code",
   "execution_count": 97,
   "id": "5baa42f2",
   "metadata": {},
   "outputs": [
    {
     "name": "stdout",
     "output_type": "stream",
     "text": [
      "-40.0 degress celsius = -40.0 fahrenheit\n",
      "-10.0 degress celsius = 14.0 fahrenheit\n",
      "0.0 degress celsius = 32.0 fahrenheit\n",
      "8.0 degress celsius = 46.0 fahrenheit\n",
      "15.0 degress celsius = 59.0 fahrenheit\n",
      "22.0 degress celsius = 72.0 fahrenheit\n",
      "38.0 degress celsius = 100.0 fahrenheit\n"
     ]
    }
   ],
   "source": [
    "for i in range(len(celsius)):\n",
    "    print(f\"{celsius[i]} degress celsius = {fahrenheit[i]} fahrenheit\")"
   ]
  },
  {
   "cell_type": "markdown",
   "id": "8d32775b",
   "metadata": {},
   "source": [
    "### Creating a neural layer model"
   ]
  },
  {
   "cell_type": "code",
   "execution_count": 98,
   "id": "a919f5f0",
   "metadata": {},
   "outputs": [],
   "source": [
    "layer1 = tf.keras.layers.Dense(units = 1, input_shape=[1])\n",
    "model = tf.keras.Sequential([layer1])"
   ]
  },
  {
   "cell_type": "code",
   "execution_count": 99,
   "id": "1feda406",
   "metadata": {},
   "outputs": [],
   "source": [
    "model.compile(loss = \"mean_squared_error\",\n",
    "             optimizer = tf.keras.optimizers.Adam(0.1))"
   ]
  },
  {
   "cell_type": "code",
   "execution_count": 100,
   "id": "f79fcdcb",
   "metadata": {},
   "outputs": [
    {
     "name": "stdout",
     "output_type": "stream",
     "text": [
      "Finished training the model\n"
     ]
    }
   ],
   "source": [
    "training_model = model.fit(celsius, fahrenheit, epochs = 1000, verbose = False)\n",
    "print(\"Finished training the model\")"
   ]
  },
  {
   "cell_type": "markdown",
   "id": "3d5ea7a9",
   "metadata": {},
   "source": [
    "### Visualize our training"
   ]
  },
  {
   "cell_type": "code",
   "execution_count": 101,
   "id": "69ce5223",
   "metadata": {},
   "outputs": [
    {
     "data": {
      "text/plain": [
       "[<matplotlib.lines.Line2D at 0x7f472046a8d0>]"
      ]
     },
     "execution_count": 101,
     "metadata": {},
     "output_type": "execute_result"
    },
    {
     "data": {
      "image/png": "[encoded data removed]",
      "text/plain": [
       "<Figure size 640x480 with 1 Axes>"
      ]
     },
     "metadata": {},
     "output_type": "display_data"
    }
   ],
   "source": [
    "plt.xlabel(\"Epoch number\")\n",
    "plt.ylabel(\"Loss\")\n",
    "plt.plot(train_model.history['loss'])"
   ]
  },
  {
   "cell_type": "markdown",
   "id": "ac8bc946",
   "metadata": {},
   "source": [
    "### Make a prediction"
   ]
  },
  {
   "cell_type": "code",
   "execution_count": 102,
   "id": "547165b9",
   "metadata": {},
   "outputs": [
    {
     "name": "stdout",
     "output_type": "stream",
     "text": [
      "WARNING:tensorflow:6 out of the last 7 calls to <function Model.make_predict_function.<locals>.predict_function at 0x7f47412e1da0> triggered tf.function retracing. Tracing is expensive and the excessive number of tracings could be due to (1) creating @tf.function repeatedly in a loop, (2) passing tensors with different shapes, (3) passing Python objects instead of tensors. For (1), please define your @tf.function outside of the loop. For (2), @tf.function has reduce_retracing=True option that can avoid unnecessary retracing. For (3), please refer to https://www.tensorflow.org/guide/function#controlling_retracing and https://www.tensorflow.org/api_docs/python/tf/function for  more details.\n",
      "1/1 [==============================] - 0s 54ms/step\n",
      "[[-40.006554]\n",
      " [211.74298 ]]\n"
     ]
    }
   ],
   "source": [
    "print(model.predict([-40, 100]))"
   ]
  },
  {
   "cell_type": "markdown",
   "id": "9caa16a7",
   "metadata": {},
   "source": [
    "### Get the weights of first layer"
   ]
  },
  {
   "cell_type": "code",
   "execution_count": 103,
   "id": "61628dad",
   "metadata": {},
   "outputs": [
    {
     "name": "stdout",
     "output_type": "stream",
     "text": [
      "These are layer1 variables: [array([[1.798211]], dtype=float32), array([31.921885], dtype=float32)]\n"
     ]
    }
   ],
   "source": [
    "print(\"These are layer1 variables: {}\".format(layer1.get_weights()))"
   ]
  },
  {
   "cell_type": "markdown",
   "id": "356f27d2",
   "metadata": {},
   "source": [
    "## Creating a model with multiple layers"
   ]
  },
  {
   "cell_type": "code",
   "execution_count": 104,
   "id": "e4dfbe09",
   "metadata": {},
   "outputs": [],
   "source": [
    "layer1 = tf.keras.layers.Dense(units=4, input_shape=[1])\n",
    "layer2 = tf.keras.layers.Dense(units=4)\n",
    "layer3 = tf.keras.layers.Dense(units=1)\n",
    "\n",
    "model = tf.keras.Sequential([layer1, layer2, layer3])\n",
    "\n",
    "model.compile(loss = 'mean_squared_error',\n",
    "             optimizer = tf.keras.optimizers.Adam(0.1))"
   ]
  },
  {
   "cell_type": "code",
   "execution_count": 107,
   "id": "f8ca8af0",
   "metadata": {},
   "outputs": [
    {
     "name": "stdout",
     "output_type": "stream",
     "text": [
      "Finished training the model.\n",
      "1/1 [==============================] - 0s 30ms/step\n",
      "1/1 [==============================] - 0s 32ms/step\n",
      "Model prediction for 0 celsius is [[31.952528]] and for 100 celsius is [[211.74745]]\n"
     ]
    }
   ],
   "source": [
    "model.fit(celsius, fahrenheit, epochs = 1000, verbose = False)\n",
    "print(\"Finished training the model.\")\n",
    "print(\"Model prediction for 0 celsius is {} and for 100 celsius is {}\".format(model.predict([0]), model.predict([100])))"
   ]
  },
  {
   "cell_type": "code",
   "execution_count": 109,
   "id": "d98989e7",
   "metadata": {},
   "outputs": [
    {
     "name": "stdout",
     "output_type": "stream",
     "text": [
      "These are layer1 variables: [array([[ 0.3617517 , -0.6045577 ,  0.0644765 , -0.13902831]],\n",
      "      dtype=float32), array([ 4.1234894, -3.7688198, -3.23602  ,  2.3545418], dtype=float32)]\n"
     ]
    }
   ],
   "source": [
    "print(f\"These are layer1 variables: {layer1.get_weights()}\")\n",
    "print(f\"These are layer2 variables: {layer2.get_weights()}\")\n",
    "print(f\"These are layer1 variables: {layer3.get_weights()}\")"
   ]
  },
  {
   "cell_type": "code",
   "execution_count": null,
   "id": "d9292288",
   "metadata": {},
   "outputs": [],
   "source": []
  }
 ],
 "metadata": {
  "kernelspec": {
   "display_name": "My Virtual Environment",
   "language": "python",
   "name": "myenv"
  },
  "language_info": {
   "codemirror_mode": {
    "name": "ipython",
    "version": 3
   },
   "file_extension": ".py",
   "mimetype": "text/x-python",
   "name": "python",
   "nbconvert_exporter": "python",
   "pygments_lexer": "ipython3",
   "version": "3.11.4"
  }
 },
 "nbformat": 4,
 "nbformat_minor": 5
}
