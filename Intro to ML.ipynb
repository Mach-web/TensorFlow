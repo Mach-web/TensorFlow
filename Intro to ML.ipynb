{
 "cells": [
  {
   "cell_type": "markdown",
   "id": "f12ce71e",
   "metadata": {},
   "source": [
    "## Building a neural network to convert degrees celsius to fahrenheit"
   ]
  },
  {
   "cell_type": "code",
   "execution_count": 14,
   "id": "f391bd00",
   "metadata": {},
   "outputs": [],
   "source": [
    "# Import the necessary modules\n",
    "import tensorflow as tf\n",
    "# tf.logging.set_verbosity(tf.logging.ERROR)\n",
    "\n",
    "import numpy as np"
   ]
  },
  {
   "cell_type": "code",
   "execution_count": 15,
   "id": "91a9077a",
   "metadata": {},
   "outputs": [],
   "source": [
    "celsius = np.array([-40, -10, 0, 8, 15, 22, 38], dtype = float)\n",
    "fahrenheit = np.array([-40, 14, 32, 46, 59, 72, 100], dtype = float)"
   ]
  },
  {
   "cell_type": "code",
   "execution_count": 16,
   "id": "17735f1a",
   "metadata": {},
   "outputs": [
    {
     "name": "stdout",
     "output_type": "stream",
     "text": [
      "-40.0 degress celsius = -40.0 fahrenheit\n",
      "-10.0 degress celsius = 14.0 fahrenheit\n",
      "0.0 degress celsius = 32.0 fahrenheit\n",
      "8.0 degress celsius = 46.0 fahrenheit\n",
      "15.0 degress celsius = 59.0 fahrenheit\n",
      "22.0 degress celsius = 72.0 fahrenheit\n",
      "38.0 degress celsius = 100.0 fahrenheit\n"
     ]
    }
   ],
   "source": [
    "for i in range(len(celsius)):\n",
    "    print(f\"{celsius[i]} degress celsius = {fahrenheit[i]} fahrenheit\")"
   ]
  },
  {
   "cell_type": "markdown",
   "id": "896089c4",
   "metadata": {},
   "source": [
    "### Creating a neural layer model"
   ]
  },
  {
   "cell_type": "code",
   "execution_count": 17,
   "id": "15c69f64",
   "metadata": {},
   "outputs": [],
   "source": [
    "layer1 = tf.keras.layers.Dense(units = 1, input_shape=[1])\n",
    "model = tf.keras.Sequential([layer1])"
   ]
  },
  {
   "cell_type": "code",
   "execution_count": 18,
   "id": "6adb17d1",
   "metadata": {},
   "outputs": [],
   "source": [
    "model.compile(loss = \"mean_squared_error\",\n",
    "             optimizer = tf.keras.optimizers.Adam(0.1))"
   ]
  },
  {
   "cell_type": "code",
   "execution_count": null,
   "id": "b11b835a",
   "metadata": {},
   "outputs": [],
   "source": []
  }
 ],
 "metadata": {
  "kernelspec": {
   "display_name": "My Virtual Environment",
   "language": "python",
   "name": "myenv"
  },
  "language_info": {
   "codemirror_mode": {
    "name": "ipython",
    "version": 3
   },
   "file_extension": ".py",
   "mimetype": "text/x-python",
   "name": "python",
   "nbconvert_exporter": "python",
   "pygments_lexer": "ipython3",
   "version": "3.11.4"
  }
 },
 "nbformat": 4,
 "nbformat_minor": 5
}
