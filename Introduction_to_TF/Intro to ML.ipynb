{
 "cells": [
  {
   "cell_type": "markdown",
   "id": "f5feba5a",
   "metadata": {},
   "source": [
    "## Building a neural network to convert degrees celsius to fahrenheit"
   ]
  },
  {
   "cell_type": "code",
   "execution_count": 4,
   "id": "c3c9363f",
   "metadata": {},
   "outputs": [],
   "source": [
    "# Import the necessary modules\n",
    "import tensorflow as tf\n",
    "# tf.logging.set_verbosity(tf.logging.ERROR)\n",
    "import matplotlib.pyplot as plt\n",
    "\n",
    "import numpy as np"
   ]
  },
  {
   "cell_type": "code",
   "execution_count": 5,
   "id": "46c97d11",
   "metadata": {},
   "outputs": [],
   "source": [
    "celsius = np.array([-40, -10, 0, 8, 15, 22, 38], dtype = float)\n",
    "fahrenheit = np.array([-40, 14, 32, 46, 59, 72, 100], dtype = float)"
   ]
  },
  {
   "cell_type": "code",
   "execution_count": 6,
   "id": "39566b66",
   "metadata": {},
   "outputs": [
    {
     "name": "stdout",
     "output_type": "stream",
     "text": [
      "-40.0 degress celsius = -40.0 fahrenheit\n",
      "-10.0 degress celsius = 14.0 fahrenheit\n",
      "0.0 degress celsius = 32.0 fahrenheit\n",
      "8.0 degress celsius = 46.0 fahrenheit\n",
      "15.0 degress celsius = 59.0 fahrenheit\n",
      "22.0 degress celsius = 72.0 fahrenheit\n",
      "38.0 degress celsius = 100.0 fahrenheit\n"
     ]
    }
   ],
   "source": [
    "for i in range(len(celsius)):\n",
    "    print(f\"{celsius[i]} degress celsius = {fahrenheit[i]} fahrenheit\")"
   ]
  },
  {
   "cell_type": "markdown",
   "id": "12597824",
   "metadata": {},
   "source": [
    "### Creating a neural layer model"
   ]
  },
  {
   "cell_type": "code",
   "execution_count": 7,
   "id": "45b07d42",
   "metadata": {},
   "outputs": [],
   "source": [
    "layer1 = tf.keras.layers.Dense(units = 1, input_shape=[1])\n",
    "model = tf.keras.Sequential([layer1])"
   ]
  },
  {
   "cell_type": "code",
   "execution_count": 8,
   "id": "be3c7f8a",
   "metadata": {},
   "outputs": [],
   "source": [
    "model.compile(loss = \"mean_squared_error\",\n",
    "             optimizer = tf.keras.optimizers.Adam(0.1))"
   ]
  },
  {
   "cell_type": "code",
   "execution_count": 9,
   "id": "ba8c1945",
   "metadata": {},
   "outputs": [
    {
     "name": "stdout",
     "output_type": "stream",
     "text": [
      "Finished training the model\n"
     ]
    }
   ],
   "source": [
    "training_model = model.fit(celsius, fahrenheit, epochs = 1000, verbose = False)\n",
    "print(\"Finished training the model\")"
   ]
  },
  {
   "cell_type": "markdown",
   "id": "2c44db4f",
   "metadata": {},
   "source": [
    "### Visualize our training"
   ]
  },
  {
   "cell_type": "code",
   "execution_count": 11,
   "id": "441c15ae",
   "metadata": {},
   "outputs": [
    {
     "data": {
      "text/plain": [
       "[<matplotlib.lines.Line2D at 0x7f4968649810>]"
      ]
     },
     "execution_count": 11,
     "metadata": {},
     "output_type": "execute_result"
    },
    {
     "data": {
      "image/png": "[encoded data removed]",
      "text/plain": [
       "<Figure size 640x480 with 1 Axes>"
      ]
     },
     "metadata": {},
     "output_type": "display_data"
    }
   ],
   "source": [
    "plt.xlabel(\"Epoch number\")\n",
    "plt.ylabel(\"Loss\")\n",
    "plt.plot(training_model.history['loss'])"
   ]
  },
  {
   "cell_type": "markdown",
   "id": "4c8fa909",
   "metadata": {},
   "source": [
    "### Make a prediction"
   ]
  },
  {
   "cell_type": "code",
   "execution_count": 12,
   "id": "78622898",
   "metadata": {},
   "outputs": [
    {
     "name": "stdout",
     "output_type": "stream",
     "text": [
      "1/1 [==============================] - 0s 123ms/step\n",
      "[[-40.043297]\n",
      " [211.73987 ]]\n"
     ]
    }
   ],
   "source": [
    "print(model.predict([-40, 100]))"
   ]
  },
  {
   "cell_type": "markdown",
   "id": "2bb6d148",
   "metadata": {},
   "source": [
    "### Get the weights of first layer"
   ]
  },
  {
   "cell_type": "code",
   "execution_count": 13,
   "id": "1e46cca6",
   "metadata": {},
   "outputs": [
    {
     "name": "stdout",
     "output_type": "stream",
     "text": [
      "These are layer1 variables: [array([[1.7984513]], dtype=float32), array([31.89475], dtype=float32)]\n"
     ]
    }
   ],
   "source": [
    "print(\"These are layer1 variables: {}\".format(layer1.get_weights()))"
   ]
  },
  {
   "cell_type": "markdown",
   "id": "4d8e7e01",
   "metadata": {},
   "source": [
    "## Creating a model with multiple layers"
   ]
  },
  {
   "cell_type": "code",
   "execution_count": 14,
   "id": "9635f2d0",
   "metadata": {},
   "outputs": [],
   "source": [
    "layer1 = tf.keras.layers.Dense(units=4, input_shape=[1])\n",
    "layer2 = tf.keras.layers.Dense(units=4)\n",
    "layer3 = tf.keras.layers.Dense(units=1)\n",
    "\n",
    "model = tf.keras.Sequential([layer1, layer2, layer3])\n",
    "\n",
    "model.compile(loss = 'mean_squared_error',\n",
    "             optimizer = tf.keras.optimizers.Adam(0.1))"
   ]
  },
  {
   "cell_type": "code",
   "execution_count": 15,
   "id": "5b076fe5",
   "metadata": {},
   "outputs": [
    {
     "name": "stdout",
     "output_type": "stream",
     "text": [
      "Finished training the model.\n",
      "1/1 [==============================] - 0s 58ms/step\n",
      "1/1 [==============================] - 0s 30ms/step\n",
      "Model prediction for 0 celsius is [[31.952526]] and for 100 celsius is [[211.74745]]\n"
     ]
    }
   ],
   "source": [
    "model.fit(celsius, fahrenheit, epochs = 1000, verbose = False)\n",
    "print(\"Finished training the model.\")\n",
    "print(\"Model prediction for 0 celsius is {} and for 100 celsius is {}\".format(model.predict([0]), model.predict([100])))"
   ]
  },
  {
   "cell_type": "code",
   "execution_count": 16,
   "id": "7a599d12",
   "metadata": {},
   "outputs": [
    {
     "name": "stdout",
     "output_type": "stream",
     "text": [
      "These are layer1 variables: [array([[0.24003164, 0.1687286 , 0.1311717 , 0.6957429 ]], dtype=float32), array([-1.6478301,  2.7784705, -1.8442563,  2.924586 ], dtype=float32)]\n",
      "These are layer2 variables: [array([[-0.1409901 ,  0.3682403 ,  0.73207885,  0.0811826 ],\n",
      "       [ 0.07663234, -0.9123305 , -0.93672955,  1.0570129 ],\n",
      "       [-0.17058598, -0.22419958,  0.22380431, -1.0221949 ],\n",
      "       [ 0.66450477, -0.9213064 , -0.569489  ,  0.41505402]],\n",
      "      dtype=float32), array([ 2.7899876, -2.8675845, -2.8288531,  2.6786547], dtype=float32)]\n",
      "These are layer3 variables: [array([[ 1.154289  ],\n",
      "       [-0.9684302 ],\n",
      "       [-0.83307135],\n",
      "       [ 0.8812031 ]], dtype=float32), array([2.7606304], dtype=float32)]\n"
     ]
    }
   ],
   "source": [
    "print(f\"These are layer1 variables: {layer1.get_weights()}\")\n",
    "print(f\"These are layer2 variables: {layer2.get_weights()}\")\n",
    "print(f\"These are layer3 variables: {layer3.get_weights()}\")"
   ]
  },
  {
   "cell_type": "code",
   "execution_count": null,
   "id": "1ebb3fbb",
   "metadata": {},
   "outputs": [],
   "source": []
  },
  {
   "cell_type": "code",
   "execution_count": null,
   "id": "2424e9c9",
   "metadata": {},
   "outputs": [],
   "source": []
  }
 ],
 "metadata": {
  "kernelspec": {
   "display_name": "My Virtual Environment",
   "language": "python",
   "name": "myenv"
  },
  "language_info": {
   "codemirror_mode": {
    "name": "ipython",
    "version": 3
   },
   "file_extension": ".py",
   "mimetype": "text/x-python",
   "name": "python",
   "nbconvert_exporter": "python",
   "pygments_lexer": "ipython3",
   "version": "3.11.4"
  }
 },
 "nbformat": 4,
 "nbformat_minor": 5
}
